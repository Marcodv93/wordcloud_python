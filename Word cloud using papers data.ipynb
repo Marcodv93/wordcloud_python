{
 "cells": [
  {
   "cell_type": "code",
   "execution_count": 1,
   "metadata": {},
   "outputs": [],
   "source": [
    "from Bio import Entrez\n",
    "import json"
   ]
  },
  {
   "cell_type": "code",
   "execution_count": 26,
   "metadata": {},
   "outputs": [],
   "source": [
    "?Entrez.esearch()"
   ]
  },
  {
   "cell_type": "code",
   "execution_count": 2,
   "metadata": {},
   "outputs": [],
   "source": [
    "def search(query):\n",
    "    Entrez.email = 'marcodv93@gmail.com'\n",
    "    handle = Entrez.esearch(db='pubmed', \n",
    "                            sort='Relevance', \n",
    "                            retmax='100',\n",
    "                            retmode='xml', \n",
    "                            term=query)\n",
    "    results = Entrez.read(handle)\n",
    "    return results\n",
    "\n",
    "def fetch_details(id_list):\n",
    "    ids = ','.join(id_list)\n",
    "    Entrez.email = 'marcodv93@gmail.com'\n",
    "    handle = Entrez.efetch(db='pubmed',\n",
    "                           retmode='xml',\n",
    "                           id=ids)\n",
    "    results = Entrez.read(handle)\n",
    "    return results"
   ]
  },
  {
   "cell_type": "code",
   "execution_count": 11,
   "metadata": {},
   "outputs": [
    {
     "name": "stdout",
     "output_type": "stream",
     "text": [
      "1) Super-resolution imaging of subcortical white matter using stochastic optical reconstruction microscopy (STORM) and super-resolution optical fluctuation imaging (SOFI).\n",
      "2) Complementarity of PALM and SOFI for super-resolution live-cell imaging of focal adhesions.\n",
      "3) Development of a reversibly switchable fluorescent protein for super-resolution optical fluctuation imaging (SOFI).\n",
      "4) Quantitative super-resolution single molecule microscopy dataset of YFP-tagged growth factor receptors.\n",
      "5) SOFI Simulation Tool: A Software Package for Simulating and Testing Super-Resolution Optical Fluctuation Imaging.\n",
      "6) Live-Cell STED Microscopy with Genetically Encoded Biosensor.\n",
      "7) Sparsity-based super-resolution microscopy from correlation information.\n",
      "8) Multicolor Super-resolution Fluorescence Microscopy with Blue and Carmine Small Photoblinking Polymer Dots.\n",
      "9) SRpHi ratiometric pH biosensors for super-resolution microscopy.\n",
      "10) Resolving the spatial relationship between intracellular components by dual color super resolution optical fluctuations imaging (SOFI).\n",
      "11) Analysis of super-resolution via 3D structured illumination intensity correlation microscopy.\n",
      "12) Expression-Enhanced Fluorescent Proteins Based on Enhanced Green Fluorescent Protein for Super-resolution Microscopy.\n",
      "13) Towards single molecule biosensors using super-resolution fluorescence microscopy.\n",
      "14) Cell culture-based biosensing techniques for detecting toxicity in water.\n",
      "15) Ultrasensitive Detection of α-Fetoprotein by Total Internal Reflection Scattering-Based Super-Resolution Microscopy for Superlocalization of Nano-Immunoplasmonics.\n",
      "16) Model-free uncertainty estimation in stochastical optical fluctuation imaging (SOFI) leads to a doubled temporal resolution.\n",
      "17) Fast, background-free, 3D super-resolution optical fluctuation imaging (SOFI).\n",
      "18) Super-resolution imaging strategies for cell biologists using a spinning disk microscope.\n",
      "19) Super-resolution fluorescence microscopy studies of human immunodeficiency virus.\n",
      "20) Genetically encoded biosensors for visualizing live-cell biochemical activity at super-resolution.\n",
      "21) Increasing microscopy resolution with photobleaching and intensity cumulant analysis.\n",
      "22) A Graphene-Based Biosensing Platform Based on Regulated Release of an Aptameric DNA Biosensor.\n",
      "23) Super-resolution microscopy: a comparative treatment.\n",
      "24) Fast super-resolution imaging with ultra-high labeling density achieved by joint tagging super-resolution optical fluctuation imaging.\n",
      "25) Live-Cell STED Imaging with the HyPer2 Biosensor.\n",
      "26) Super-resolution fluorescence microscopy by stepwise optical saturation.\n",
      "27) SRRF: Universal live-cell super-resolution microscopy.\n",
      "28) Super-Resolution Microscopy: Shedding Light on the Cellular Plasma Membrane.\n",
      "29) Super-resolution microscopy for nanosensing.\n",
      "30) Example-Based Super-Resolution Fluorescence Microscopy.\n",
      "31) Super-resolution Microscopy in Plant Cell Imaging.\n",
      "32) Correlative In-Resin Super-Resolution Fluorescence and Electron Microscopy of Cultured Cells.\n",
      "33) An introduction to optical super-resolution microscopy for the adventurous biologist.\n",
      "34) Super-resolution microscopy in the diagnosis of platelet granule disorders.\n",
      "35) Highly stable piezo-immunoglobulin-biosensing of a SiO2/ZnO nanogenerator as a self-powered/active biosensor arising from the field effect influenced piezoelectric screening effect.\n",
      "36) Preserving the photoswitching ability of standard fluorescent proteins for correlative in-resin super-resolution and electron microscopy.\n",
      "37) Correlative Super-Resolution Fluorescence Imaging and Atomic Force Microscopy for the Characterization of Biological Samples.\n",
      "38) Introduction to super-resolution microscopy.\n",
      "39) Super-Resolution Scanning Laser Microscopy Based on Virtually Structured Detection.\n",
      "40) Super resolution microscopy is poised to reveal new insights into the formation and maturation of dendritic spines.\n",
      "41) Imaging neuronal structure dynamics using 2-photon super-resolution patterned excitation reconstruction microscopy.\n",
      "42) Super-resolution microscopy as a potential approach to diagnosis of platelet granule disorders.\n",
      "43) A novel impedimetric glucose biosensor based on immobilized glucose oxidase on a CuO-Chitosan nanobiocomposite modified FTO electrode.\n",
      "44) Three-dimensional Super Resolution Microscopy of F-actin Filaments by Interferometric PhotoActivated Localization Microscopy (iPALM).\n",
      "45) Tilted Light Sheet Microscopy with 3D Point Spread Functions for Single-Molecule Super-Resolution Imaging in Mammalian Cells.\n",
      "46) \"Supertrap\" at Work: Extremely Efficient Nonradiative Recombination Channels in MAPbI<sub>3</sub> Perovskites Revealed by Luminescence Super-Resolution Imaging and Spectroscopy.\n",
      "47) A review of biosensing techniques for detection of trace carcinogen contamination in food products.\n",
      "48) Cell-Shaping Micropatterns for Quantitative Super-Resolution Microscopy Imaging of Membrane Mechanosensing Proteins.\n",
      "49) Super-resolution microscopy approaches to nuclear nanostructure imaging.\n",
      "50) Visualizing and discovering cellular structures with super-resolution microscopy.\n",
      "51) Super-resolution microscopy: going live and going fast.\n",
      "52) Translation Microscopy (TRAM) for super-resolution imaging.\n",
      "53) Correlative super-resolution fluorescence and electron microscopy using conventional fluorescent proteins in vacuo.\n",
      "54) Super-Resolution Microscopy Techniques and Their Potential for Applications in Radiation Biophysics.\n",
      "55) Impedance nanopore biosensor: influence of pore dimensions on biosensing performance.\n",
      "56) Reusable split-aptamer-based biosensor for rapid detection of cocaine in serum by using an all-fiber evanescent wave optical biosensing platform.\n",
      "57) A Mitochondrion-Specific Photoactivatable Fluorescence Turn-On AIE-Based Bioprobe for Localization Super-Resolution Microscope.\n",
      "58) Automatic smartphone-based microfluidic biosensor system at the point of care.\n",
      "59) Super-resolution microscopy with DNA-PAINT.\n",
      "60) Open-source Single-particle Analysis for Super-resolution Microscopy with VirusMapper.\n",
      "61) Deep learning massively accelerates super-resolution localization microscopy.\n",
      "62) Super-Resolution Microscopy and Tracking of DNA-Binding Proteins in Bacterial Cells.\n",
      "63) Direct optical sensing of single unlabelled proteins and super-resolution imaging of their binding sites.\n",
      "64) Quantifying protein densities on cell membranes using super-resolution optical fluctuation imaging.\n",
      "65) Current status of water environment and their microbial biosensor techniques - Part I: Current data of water environment and recent studies on water quality investigations in Japan, and new possibility of microbial biosensor techniques.\n",
      "66) Fluorescent Diarylethene Photoswitches-A Universal Tool for Super-Resolution Microscopy in Nanostructured Materials.\n",
      "67) Approaching near real-time biosensing: microfluidic microsphere based biosensor for real-time analyte detection.\n",
      "68) Super-Resolution Fluorescence Microscopy for Single Cell Imaging.\n",
      "69) Probing nano-organization of astroglia with multi-color super-resolution microscopy.\n",
      "70) A novel upconversion@polydopamine core@shell nanoparticle based aptameric biosensor for biosensing and imaging of cytochrome c inside living cells.\n",
      "71) Super-resolution Microscopy Reveals Compartmentalization of Peroxisomal Membrane Proteins.\n",
      "72) Correlative Super-resolution and Electron Microscopy to Resolve Protein Localization in Zebrafish Retina.\n",
      "73) Progress in the biosensing techniques for trace-level heavy metals.\n",
      "74) Super-Resolution Correlative Light and Electron Microscopy (SR-CLEM) Reveals Novel Ultrastructural Insights Into Dendritic Cell Podosomes.\n",
      "75) Preparation, characterization and application of urease nanoparticles for construction of an improved potentiometric urea biosensor.\n",
      "76) Super-resolution optical microscopy for studying membrane structure and dynamics.\n",
      "77) Single-molecule super-resolution light-sheet microscopy.\n",
      "78) Correlative Super-Resolution Microscopy: New Dimensions and New Opportunities.\n",
      "79) ChromoTrace: Computational reconstruction of 3D chromosome configurations for super-resolution microscopy.\n",
      "80) Effect of probe diffusion on the SOFI imaging accuracy.\n",
      "81) 3D super-resolution microscopy reflects mitochondrial cristae alternations and mtDNA nucleoid size and distribution.\n",
      "82) Super-Resolution Optical Fluctuation Bio-Imaging with Dual-Color Carbon Nanodots.\n",
      "83) Airyscan super-resolution microscopy of mitochondrial morphology and dynamics in living tumor cells.\n",
      "84) Super-resolution Microscopy - Applications in Plant Cell Research.\n",
      "85) Super-resolution structure of DNA significantly differs in buccal cells of controls and Alzheimer's patients.\n",
      "86) Nanoscopy for nanoscience: how super-resolution microscopy extends imaging for nanotechnology.\n",
      "87) Aptamer Stainings for Super-resolution Microscopy.\n",
      "88) Follow-up review: recent progress in the development of super-resolution optical microscopy.\n",
      "89) Photostable and photoswitching fluorescent dyes for super-resolution imaging.\n",
      "90) Aptamers, antibody scFv, and antibody Fab' fragments: An overview and comparison of three of the most versatile biosensor biorecognition elements.\n",
      "91) Peptide-based electrochemical biosensor for juvenile idiopathic arthritis detection.\n",
      "92) Bridging the gap: Super-resolution microscopy of epithelial cell junctions.\n",
      "93) Under the Microscope: Single-Domain Antibodies for Live-Cell Imaging and Super-Resolution Microscopy.\n",
      "94) Qualitative and quantitative analysis of PMN/T-cell interactions by InFlow and super-resolution microscopy.\n",
      "95) Managing the Introduction of Super-Resolution Microscopy into a Core Facility.\n",
      "96) Fluorescent Nano-Probes to Image Plant Cell Walls by Super-Resolution STED Microscopy.\n",
      "97) Dual-Color and 3D Super-Resolution Microscopy of Multi-protein Assemblies.\n",
      "98) 3D point scanning super-resolution microscopy via polarization modulation.\n",
      "99) Diverse protocols for correlative super-resolution fluorescence imaging and electron microscopy of chemically fixed samples.\n",
      "100) A microfluidic platform for correlative live-cell and super-resolution microscopy.\n"
     ]
    }
   ],
   "source": [
    "search_term = 'super resolution microscopy OR biosensor OR SOFI microscopy'\n",
    "\n",
    "if __name__ == '__main__':\n",
    "    results = search(search_term)\n",
    "    id_list = results['IdList']\n",
    "    papers = fetch_details(id_list)\n",
    "    for i, paper in enumerate(papers['PubmedArticle']): \n",
    "        print(\"%d) %s\" % (i+1, paper['MedlineCitation']['Article']['ArticleTitle']))\n",
    "\n",
    "\n",
    "# Pretty print the first paper in full    \n",
    "#print(json.dumps(papers, indent=2, separators=(',', ':')))"
   ]
  },
  {
   "cell_type": "code",
   "execution_count": 13,
   "metadata": {},
   "outputs": [],
   "source": [
    "text = \"\"\n",
    "if __name__ == '__main__':\n",
    "    results = search(search_term)\n",
    "    id_list = results['IdList']\n",
    "    papers = fetch_details(id_list)\n",
    "    for i, paper in enumerate(papers['PubmedArticle']): \n",
    "        if \"Abstract\" in papers[\"PubmedArticle\"][i][\"MedlineCitation\"][\"Article\"].keys():\n",
    "            text+=papers[\"PubmedArticle\"][i][\"MedlineCitation\"][\"Article\"][\"Abstract\"]['AbstractText'][0]\n",
    "        \n",
    "\n"
   ]
  },
  {
   "cell_type": "code",
   "execution_count": 14,
   "metadata": {},
   "outputs": [],
   "source": [
    "from wordcloud import WordCloud\n",
    "import matplotlib.pyplot as plt\n",
    "from PIL import Image\n",
    "import os\n",
    "import numpy as np\n",
    "import cv2\n",
    "\n",
    "currdir = os.getcwd()\n",
    "mask = np.array(Image.open(os.path.join(currdir, \"tree-template.png\")))\n",
    "mask_inv = cv2.bitwise_not(mask)\n"
   ]
  },
  {
   "cell_type": "code",
   "execution_count": 15,
   "metadata": {},
   "outputs": [
    {
     "data": {
      "image/png": "[encoded data removed]",
      "text/plain": [
       "<matplotlib.figure.Figure at 0x7337ff0>"
      ]
     },
     "metadata": {},
     "output_type": "display_data"
    }
   ],
   "source": [
    "cloud = WordCloud(background_color='SEAGREEN', mask=mask, colormap='OrRd').generate(text)\n",
    "plt.imshow(cloud)\n",
    "plt.axis('off')\n",
    "plt.show()"
   ]
  },
  {
   "cell_type": "code",
   "execution_count": 16,
   "metadata": {},
   "outputs": [
    {
     "data": {
      "text/plain": [
       "<wordcloud.wordcloud.WordCloud at 0x41484f0>"
      ]
     },
     "execution_count": 16,
     "metadata": {},
     "output_type": "execute_result"
    }
   ],
   "source": [
    "cloud.to_file(os.path.join(currdir, \"wc.png\"))"
   ]
  },
  {
   "cell_type": "code",
   "execution_count": 8,
   "metadata": {},
   "outputs": [
    {
     "data": {
      "text/plain": [
       "StringElement('Unbiased screening studies have repeatedly identified actin-related proteins as one of the families of proteins most influenced by neurotrauma. Nevertheless, the status quo model of cytoskeletal reorganization after neurotrauma excludes actin and incorporates only changes in microtubules and intermediate filaments. Actin is excluded in part because it is difficult to image with conventional techniques. However, recent innovations in fluorescent microscopy provide an opportunity to image the actin cytoskeleton at super-resolution resolution in living cells. This study applied these innovations to an in vitro model of neurotrauma.', attributes={'Label': 'BACKGROUND', 'NlmCategory': 'BACKGROUND'})"
      ]
     },
     "execution_count": 8,
     "metadata": {},
     "output_type": "execute_result"
    }
   ],
   "source": [
    "papers[\"PubmedArticle\"][0][\"MedlineCitation\"][\"Article\"][\"Abstract\"]['AbstractText'][0]"
   ]
  },
  {
   "cell_type": "code",
   "execution_count": 33,
   "metadata": {},
   "outputs": [],
   "source": [
    "?WordCloud"
   ]
  }
 ],
 "metadata": {
  "kernelspec": {
   "display_name": "Python 3",
   "language": "python",
   "name": "python3"
  },
  "language_info": {
   "codemirror_mode": {
    "name": "ipython",
    "version": 3
   },
   "file_extension": ".py",
   "mimetype": "text/x-python",
   "name": "python",
   "nbconvert_exporter": "python",
   "pygments_lexer": "ipython3",
   "version": "3.6.3"
  }
 },
 "nbformat": 4,
 "nbformat_minor": 2
}
